{
  "nbformat": 4,
  "nbformat_minor": 0,
  "metadata": {
    "colab": {
      "name": "dlworkshop_02.ipynb",
      "provenance": [],
      "authorship_tag": "ABX9TyNxusB4f6EzOLazX7JZZhQ6",
      "include_colab_link": true
    },
    "kernelspec": {
      "name": "python3",
      "display_name": "Python 3"
    }
  },
  "cells": [
    {
      "cell_type": "markdown",
      "metadata": {
        "id": "view-in-github",
        "colab_type": "text"
      },
      "source": [
        "<a href=\"https://colab.research.google.com/github/da-shinjk/dlworkshop_02/blob/master/dlworkshop_02.ipynb\" target=\"_parent\"><img src=\"https://colab.research.google.com/assets/colab-badge.svg\" alt=\"Open In Colab\"/></a>"
      ]
    },
    {
      "cell_type": "markdown",
      "metadata": {
        "id": "VqDMIjLzo2O4",
        "colab_type": "text"
      },
      "source": [
        "第1回で入力したコード。\n",
        "\n",
        "この環境で動作しているPythonバージョンを調べます。"
      ]
    },
    {
      "cell_type": "code",
      "metadata": {
        "id": "IbXfQN1_A5WA",
        "colab_type": "code",
        "colab": {
          "base_uri": "https://localhost:8080/",
          "height": 51
        },
        "outputId": "5c836755-3fab-40c8-8d7f-2154ec3ec1bc"
      },
      "source": [
        "import sys\n",
        "print(sys.version)"
      ],
      "execution_count": 1,
      "outputs": [
        {
          "output_type": "stream",
          "text": [
            "3.6.9 (default, Nov  7 2019, 10:44:02) \n",
            "[GCC 8.3.0]\n"
          ],
          "name": "stdout"
        }
      ]
    },
    {
      "cell_type": "markdown",
      "metadata": {
        "id": "DEC3L40Ls6ik",
        "colab_type": "text"
      },
      "source": [
        "以下からが第2回の内容です。\n",
        "\n",
        "まず、あやめの特徴を示したデータセットをロードします。"
      ]
    },
    {
      "cell_type": "code",
      "metadata": {
        "id": "AYpY3jRAsxcp",
        "colab_type": "code",
        "colab": {}
      },
      "source": [
        "from sklearn.datasets import load_iris\n",
        "iris = load_iris()"
      ],
      "execution_count": 0,
      "outputs": []
    },
    {
      "cell_type": "markdown",
      "metadata": {
        "id": "pU4VzL_QzKj9",
        "colab_type": "text"
      },
      "source": [
        "データセットの説明を表示します。"
      ]
    },
    {
      "cell_type": "code",
      "metadata": {
        "id": "r9pAM88SzNsx",
        "colab_type": "code",
        "colab": {
          "base_uri": "https://localhost:8080/",
          "height": 1000
        },
        "outputId": "5f717dc8-876a-47bc-b6e3-b3884d9df91c"
      },
      "source": [
        "print(iris.DESCR)"
      ],
      "execution_count": 3,
      "outputs": [
        {
          "output_type": "stream",
          "text": [
            ".. _iris_dataset:\n",
            "\n",
            "Iris plants dataset\n",
            "--------------------\n",
            "\n",
            "**Data Set Characteristics:**\n",
            "\n",
            "    :Number of Instances: 150 (50 in each of three classes)\n",
            "    :Number of Attributes: 4 numeric, predictive attributes and the class\n",
            "    :Attribute Information:\n",
            "        - sepal length in cm\n",
            "        - sepal width in cm\n",
            "        - petal length in cm\n",
            "        - petal width in cm\n",
            "        - class:\n",
            "                - Iris-Setosa\n",
            "                - Iris-Versicolour\n",
            "                - Iris-Virginica\n",
            "                \n",
            "    :Summary Statistics:\n",
            "\n",
            "    ============== ==== ==== ======= ===== ====================\n",
            "                    Min  Max   Mean    SD   Class Correlation\n",
            "    ============== ==== ==== ======= ===== ====================\n",
            "    sepal length:   4.3  7.9   5.84   0.83    0.7826\n",
            "    sepal width:    2.0  4.4   3.05   0.43   -0.4194\n",
            "    petal length:   1.0  6.9   3.76   1.76    0.9490  (high!)\n",
            "    petal width:    0.1  2.5   1.20   0.76    0.9565  (high!)\n",
            "    ============== ==== ==== ======= ===== ====================\n",
            "\n",
            "    :Missing Attribute Values: None\n",
            "    :Class Distribution: 33.3% for each of 3 classes.\n",
            "    :Creator: R.A. Fisher\n",
            "    :Donor: Michael Marshall (MARSHALL%PLU@io.arc.nasa.gov)\n",
            "    :Date: July, 1988\n",
            "\n",
            "The famous Iris database, first used by Sir R.A. Fisher. The dataset is taken\n",
            "from Fisher's paper. Note that it's the same as in R, but not as in the UCI\n",
            "Machine Learning Repository, which has two wrong data points.\n",
            "\n",
            "This is perhaps the best known database to be found in the\n",
            "pattern recognition literature.  Fisher's paper is a classic in the field and\n",
            "is referenced frequently to this day.  (See Duda & Hart, for example.)  The\n",
            "data set contains 3 classes of 50 instances each, where each class refers to a\n",
            "type of iris plant.  One class is linearly separable from the other 2; the\n",
            "latter are NOT linearly separable from each other.\n",
            "\n",
            ".. topic:: References\n",
            "\n",
            "   - Fisher, R.A. \"The use of multiple measurements in taxonomic problems\"\n",
            "     Annual Eugenics, 7, Part II, 179-188 (1936); also in \"Contributions to\n",
            "     Mathematical Statistics\" (John Wiley, NY, 1950).\n",
            "   - Duda, R.O., & Hart, P.E. (1973) Pattern Classification and Scene Analysis.\n",
            "     (Q327.D83) John Wiley & Sons.  ISBN 0-471-22361-1.  See page 218.\n",
            "   - Dasarathy, B.V. (1980) \"Nosing Around the Neighborhood: A New System\n",
            "     Structure and Classification Rule for Recognition in Partially Exposed\n",
            "     Environments\".  IEEE Transactions on Pattern Analysis and Machine\n",
            "     Intelligence, Vol. PAMI-2, No. 1, 67-71.\n",
            "   - Gates, G.W. (1972) \"The Reduced Nearest Neighbor Rule\".  IEEE Transactions\n",
            "     on Information Theory, May 1972, 431-433.\n",
            "   - See also: 1988 MLC Proceedings, 54-64.  Cheeseman et al\"s AUTOCLASS II\n",
            "     conceptual clustering system finds 3 classes in the data.\n",
            "   - Many, many more ...\n"
          ],
          "name": "stdout"
        }
      ]
    },
    {
      "cell_type": "markdown",
      "metadata": {
        "id": "-72LwAYCAdBQ",
        "colab_type": "text"
      },
      "source": [
        "あやめのデータセットに含まれるデータや属性を幾つか表示します。"
      ]
    },
    {
      "cell_type": "code",
      "metadata": {
        "id": "vBWUIOufAj91",
        "colab_type": "code",
        "colab": {
          "base_uri": "https://localhost:8080/",
          "height": 153
        },
        "outputId": "02bfa702-542f-4b9f-e33d-52154dd19fff"
      },
      "source": [
        "print(iris.feature_names)  # iris.data属性の説明\n",
        "print(iris.data[0:5])  # iris.data属性の先頭5要素を表示\n",
        "print(iris.target_names)  # iris.target属性の説明\n",
        "print(iris.target[0:5])  # iris.target属性の先頭5要素を表示"
      ],
      "execution_count": 4,
      "outputs": [
        {
          "output_type": "stream",
          "text": [
            "['sepal length (cm)', 'sepal width (cm)', 'petal length (cm)', 'petal width (cm)']\n",
            "[[5.1 3.5 1.4 0.2]\n",
            " [4.9 3.  1.4 0.2]\n",
            " [4.7 3.2 1.3 0.2]\n",
            " [4.6 3.1 1.5 0.2]\n",
            " [5.  3.6 1.4 0.2]]\n",
            "['setosa' 'versicolor' 'virginica']\n",
            "[0 0 0 0 0]\n"
          ],
          "name": "stdout"
        }
      ]
    },
    {
      "cell_type": "markdown",
      "metadata": {
        "id": "82vTx3WBLc72",
        "colab_type": "text"
      },
      "source": [
        "読み込んだデータを、訓練データとテストデータに分割します。"
      ]
    },
    {
      "cell_type": "code",
      "metadata": {
        "id": "R31uO4btHVUD",
        "colab_type": "code",
        "colab": {
          "base_uri": "https://localhost:8080/",
          "height": 119
        },
        "outputId": "ef53a6f9-ee4f-4a88-a099-15e7bb5d2047"
      },
      "source": [
        "from sklearn.model_selection import train_test_split\n",
        "print('length of iris.data:', len(iris.data))  # iris.dataのデータ数\n",
        "print('length of iris.target:', len(iris.target))  # iris.targetのデータ数\n",
        "\n",
        "# iris.dataとiris.targetに含まれるデータをシャッフルして分割\n",
        "X_train, X_test, y_train, y_test = train_test_split(iris.data, iris.target)\n",
        "print('length of X_train:', len(X_train))\n",
        "print('length of y_train:', len(y_train))\n",
        "print('length of X_test:', len(X_test))\n",
        "print('length of y_test:', len(y_test))"
      ],
      "execution_count": 8,
      "outputs": [
        {
          "output_type": "stream",
          "text": [
            "length of iris.data: 150\n",
            "length of iris.target: 150\n",
            "length of X_train: 112\n",
            "length of y_train: 112\n",
            "length of X_test: 38\n",
            "length of y_test: 38\n"
          ],
          "name": "stdout"
        }
      ]
    },
    {
      "cell_type": "markdown",
      "metadata": {
        "id": "x3txC5EjLlmL",
        "colab_type": "text"
      },
      "source": [
        "分割された訓練データ（と対応する正解ラベル）の先頭から5つの要素を表示してみます。"
      ]
    },
    {
      "cell_type": "code",
      "metadata": {
        "id": "Tnkjo-dtLau4",
        "colab_type": "code",
        "colab": {
          "base_uri": "https://localhost:8080/",
          "height": 102
        },
        "outputId": "71def116-c6d8-4a7f-ee76-02a405a72963"
      },
      "source": [
        "for idx, item in enumerate(zip(X_train, y_train)):\n",
        "    if idx == 5:\n",
        "        break\n",
        "    print(f'{item[0]}: {iris.target_names[item[1]]}')"
      ],
      "execution_count": 9,
      "outputs": [
        {
          "output_type": "stream",
          "text": [
            "[5.4 3.  4.5 1.5]: versicolor\n",
            "[6.5 3.  5.5 1.8]: virginica\n",
            "[5.3 3.7 1.5 0.2]: setosa\n",
            "[4.8 3.4 1.9 0.2]: setosa\n",
            "[6.2 3.4 5.4 2.3]: virginica\n"
          ],
          "name": "stdout"
        }
      ]
    },
    {
      "cell_type": "code",
      "metadata": {
        "id": "CVUttx3EMM2f",
        "colab_type": "code",
        "colab": {}
      },
      "source": [
        "import torch\n",
        "\n",
        "X_train = torch.from_numpy(X_train).float()\n",
        "y_train = torch.tensor([[float(x)] for x in y_train])\n",
        "X_test = torch.from_numpy(X_test).float()\n",
        "y_test = torch.tensor([[float(x)] for x in y_test])"
      ],
      "execution_count": 0,
      "outputs": []
    },
    {
      "cell_type": "markdown",
      "metadata": {
        "id": "P10FEblyNWHi",
        "colab_type": "text"
      },
      "source": [
        "PyTorchのテンソルの扱い方を簡単に見てみるコードです。"
      ]
    },
    {
      "cell_type": "code",
      "metadata": {
        "id": "UCUPcZyWNWUK",
        "colab_type": "code",
        "colab": {
          "base_uri": "https://localhost:8080/",
          "height": 255
        },
        "outputId": "f88a55df-4828-440a-abde-da3c6841cc0b"
      },
      "source": [
        "# X_trainのサイズを調べる\n",
        "print(X_train.size())\n",
        "print(X_train.shape)  # NumPyと同様な書き方\n",
        "print(len(X_train))  # 最初の次元の要素数（行数）\n",
        "print(X_train.dim())  # テンソルの次元数\n",
        "print(X_train.ndim)  # NumPyと同様な書き方\n",
        "\n",
        "# テンソルの要素のデータ型を調べる\n",
        "print(X_train.dtype)\n",
        "print(y_train.dtype)\n",
        "\n",
        "# テンソルの要素へのアクセス\n",
        "print(X_train[0])  # 先頭行\n",
        "print(X_train[0][0])  # 先頭行の先頭要素\n",
        "print(X_train[1:3])  # 第1行と第2行\n",
        "print(X_train[1:3, 1:3])  # 第1行と第2行の1列目と2列目の要素\n",
        "print(X_train[1:3][1:3])  # この書き方は意味が異なる点に注意"
      ],
      "execution_count": 15,
      "outputs": [
        {
          "output_type": "stream",
          "text": [
            "torch.Size([112, 4])\n",
            "torch.Size([112, 4])\n",
            "112\n",
            "2\n",
            "2\n",
            "torch.float32\n",
            "torch.float32\n",
            "tensor([5.4000, 3.0000, 4.5000, 1.5000])\n",
            "tensor(5.4000)\n",
            "tensor([[6.5000, 3.0000, 5.5000, 1.8000],\n",
            "        [5.3000, 3.7000, 1.5000, 0.2000]])\n",
            "tensor([[3.0000, 5.5000],\n",
            "        [3.7000, 1.5000]])\n",
            "tensor([[5.3000, 3.7000, 1.5000, 0.2000]])\n"
          ],
          "name": "stdout"
        }
      ]
    },
    {
      "cell_type": "markdown",
      "metadata": {
        "id": "Z7PEW-d2Sf4a",
        "colab_type": "text"
      },
      "source": [
        "ニューラルネットワークを定義するクラス。"
      ]
    },
    {
      "cell_type": "code",
      "metadata": {
        "id": "JPnniYRcSlQN",
        "colab_type": "code",
        "colab": {}
      },
      "source": [
        "from torch import nn\n",
        "\n",
        "INPUT_FEATURES = 4\n",
        "HIDDEN = 5\n",
        "OUTPUT_FEATURES = 1\n",
        "\n",
        "class Net(nn.Module):\n",
        "    def __init__(self):\n",
        "        super().__init__()\n",
        "        self.fc1 = nn.Linear(INPUT_FEATURES, HIDDEN)\n",
        "        self.fc2 = nn.Linear(HIDDEN, OUTPUT_FEATURES)\n",
        "\n",
        "    def forward(self, x):\n",
        "        x = self.fc1(x)\n",
        "        x = torch.sigmoid(x)\n",
        "        x = self.fc2(x)\n",
        "        return x"
      ],
      "execution_count": 0,
      "outputs": []
    },
    {
      "cell_type": "markdown",
      "metadata": {
        "id": "h2cTTv2KT6FQ",
        "colab_type": "text"
      },
      "source": [
        "torch.nn.Linearクラスのインスタンスが\\__call__メソッドを持つかを確認します。\n",
        "\n",
        "持っていれば、そのインスタンスは関数のように呼び出せます。"
      ]
    },
    {
      "cell_type": "code",
      "metadata": {
        "id": "RiwclXDRUFke",
        "colab_type": "code",
        "colab": {
          "base_uri": "https://localhost:8080/",
          "height": 34
        },
        "outputId": "da73d458-e6b3-4d11-8240-faa279ec37e5"
      },
      "source": [
        "linear = nn.Linear(4, 5)\n",
        "print(linear.__call__)"
      ],
      "execution_count": 17,
      "outputs": [
        {
          "output_type": "stream",
          "text": [
            "<bound method Module.__call__ of Linear(in_features=4, out_features=5, bias=True)>\n"
          ],
          "name": "stdout"
        }
      ]
    },
    {
      "cell_type": "markdown",
      "metadata": {
        "id": "S3HyK4oUWHtg",
        "colab_type": "text"
      },
      "source": [
        "上で定義したNetクラスを実際に使ってみます。"
      ]
    },
    {
      "cell_type": "code",
      "metadata": {
        "id": "y6VgAoPqWQ7V",
        "colab_type": "code",
        "colab": {
          "base_uri": "https://localhost:8080/",
          "height": 153
        },
        "outputId": "eee3c17c-0b61-4817-ffa2-e325ee8ea10a"
      },
      "source": [
        "net = Net()  # ニューラルネットワークのインスタンスを生成\n",
        "\n",
        "outputs = net(X_train[0:3])  # 訓練データの先頭から3個の要素を入力\n",
        "print(outputs)\n",
        "print(type(outputs))\n",
        "print(outputs.dtype)\n",
        "for idx in range(3):\n",
        "    print('output:', outputs[idx].item(), ', label:', y_train[idx].item())"
      ],
      "execution_count": 18,
      "outputs": [
        {
          "output_type": "stream",
          "text": [
            "tensor([[-0.6376],\n",
            "        [-0.6201],\n",
            "        [-0.7957]], grad_fn=<AddmmBackward>)\n",
            "<class 'torch.Tensor'>\n",
            "torch.float32\n",
            "output: -0.6375830769538879 , label: 1.0\n",
            "output: -0.6200773119926453 , label: 2.0\n",
            "output: -0.7957167029380798 , label: 0.0\n"
          ],
          "name": "stdout"
        }
      ]
    }
  ]
}