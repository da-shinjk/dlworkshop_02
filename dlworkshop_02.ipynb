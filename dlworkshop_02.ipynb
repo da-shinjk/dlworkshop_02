{
  "nbformat": 4,
  "nbformat_minor": 0,
  "metadata": {
    "colab": {
      "name": "dlworkshop_02.ipynb",
      "provenance": [],
      "authorship_tag": "ABX9TyOVhbPMgHb5sZBrZSUihbWK",
      "include_colab_link": true
    },
    "kernelspec": {
      "name": "python3",
      "display_name": "Python 3"
    }
  },
  "cells": [
    {
      "cell_type": "markdown",
      "metadata": {
        "id": "view-in-github",
        "colab_type": "text"
      },
      "source": [
        "<a href=\"https://colab.research.google.com/github/da-shinjk/dlworkshop_02/blob/master/dlworkshop_02.ipynb\" target=\"_parent\"><img src=\"https://colab.research.google.com/assets/colab-badge.svg\" alt=\"Open In Colab\"/></a>"
      ]
    },
    {
      "cell_type": "markdown",
      "metadata": {
        "id": "VqDMIjLzo2O4",
        "colab_type": "text"
      },
      "source": [
        "第1回で入力したコード。\n",
        "\n",
        "この環境で動作しているPythonバージョンを調べます。"
      ]
    },
    {
      "cell_type": "code",
      "metadata": {
        "id": "IbXfQN1_A5WA",
        "colab_type": "code",
        "outputId": "5c836755-3fab-40c8-8d7f-2154ec3ec1bc",
        "colab": {
          "base_uri": "https://localhost:8080/",
          "height": 51
        }
      },
      "source": [
        "import sys\n",
        "print(sys.version)"
      ],
      "execution_count": 0,
      "outputs": [
        {
          "output_type": "stream",
          "text": [
            "3.6.9 (default, Nov  7 2019, 10:44:02) \n",
            "[GCC 8.3.0]\n"
          ],
          "name": "stdout"
        }
      ]
    },
    {
      "cell_type": "markdown",
      "metadata": {
        "id": "DEC3L40Ls6ik",
        "colab_type": "text"
      },
      "source": [
        "以下からが第2回の内容です。\n",
        "\n",
        "まず、あやめの特徴を示したデータセットをロードします。"
      ]
    },
    {
      "cell_type": "code",
      "metadata": {
        "id": "AYpY3jRAsxcp",
        "colab_type": "code",
        "colab": {}
      },
      "source": [
        "from sklearn.datasets import load_iris\n",
        "iris = load_iris()"
      ],
      "execution_count": 0,
      "outputs": []
    },
    {
      "cell_type": "markdown",
      "metadata": {
        "id": "pU4VzL_QzKj9",
        "colab_type": "text"
      },
      "source": [
        "データセットに含まれているデータを5つ表示してみます。"
      ]
    },
    {
      "cell_type": "code",
      "metadata": {
        "id": "r9pAM88SzNsx",
        "colab_type": "code",
        "outputId": "91305a2f-dd40-4150-938b-a24ff062cdaa",
        "colab": {
          "base_uri": "https://localhost:8080/",
          "height": 102
        }
      },
      "source": [
        "for idx, item in enumerate(zip(iris.data, iris.target)):\n",
        "    if idx == 5:\n",
        "        break\n",
        "    print('data:', item[0], ', target:', item[1])"
      ],
      "execution_count": 2,
      "outputs": [
        {
          "output_type": "stream",
          "text": [
            "data: [5.1 3.5 1.4 0.2] , target: 0\n",
            "data: [4.9 3.  1.4 0.2] , target: 0\n",
            "data: [4.7 3.2 1.3 0.2] , target: 0\n",
            "data: [4.6 3.1 1.5 0.2] , target: 0\n",
            "data: [5.  3.6 1.4 0.2] , target: 0\n"
          ],
          "name": "stdout"
        }
      ]
    },
    {
      "cell_type": "markdown",
      "metadata": {
        "id": "-72LwAYCAdBQ",
        "colab_type": "text"
      },
      "source": [
        "データセットを訓練データとテストに分割します。"
      ]
    },
    {
      "cell_type": "code",
      "metadata": {
        "id": "vBWUIOufAj91",
        "colab_type": "code",
        "outputId": "428e36aa-6a54-4183-8dc7-e0a984b21026",
        "colab": {
          "base_uri": "https://localhost:8080/",
          "height": 119
        }
      },
      "source": [
        "from sklearn.model_selection import train_test_split\n",
        "print('length of iris.data:', len(iris.data))  # iris.dataのデータ数\n",
        "print('length of iris.target:', len(iris.target))  # iris.targetのデータ数\n",
        "\n",
        "# iris.dataとiris.targetに含まれるデータをシャッフルして分割\n",
        "X_train, X_test, y_train, y_test = train_test_split(iris.data, iris.target)\n",
        "print('length of X_train:', len(X_train))\n",
        "print('length of y_train:', len(y_train))\n",
        "print('length of X_test:', len(X_test))\n",
        "print('length of y_test:', len(y_test))"
      ],
      "execution_count": 13,
      "outputs": [
        {
          "output_type": "stream",
          "text": [
            "length of iris.data: 150\n",
            "length of iris.target: 150\n",
            "length of X_train: 112\n",
            "length of y_train: 112\n",
            "length of X_test: 38\n",
            "length of y_test: 38\n"
          ],
          "name": "stdout"
        }
      ]
    },
    {
      "cell_type": "markdown",
      "metadata": {
        "id": "82vTx3WBLc72",
        "colab_type": "text"
      },
      "source": [
        "分割後のデータセット（X_trainとy_train）のデータを5つ表示します。"
      ]
    },
    {
      "cell_type": "code",
      "metadata": {
        "id": "R31uO4btHVUD",
        "colab_type": "code",
        "outputId": "ed57830e-a2e2-4ab5-e8ed-b7b392587f6a",
        "colab": {
          "base_uri": "https://localhost:8080/",
          "height": 102
        }
      },
      "source": [
        "for idx, item in enumerate(zip(X_train, y_train)):\n",
        "    if idx == 5:\n",
        "        break\n",
        "    print('data:', item[0], ', target:', item[1])"
      ],
      "execution_count": 14,
      "outputs": [
        {
          "output_type": "stream",
          "text": [
            "data: [5.6 2.5 3.9 1.1] , target: 1\n",
            "data: [5.9 3.  4.2 1.5] , target: 1\n",
            "data: [6.5 3.  5.2 2. ] , target: 2\n",
            "data: [5.2 3.5 1.5 0.2] , target: 0\n",
            "data: [6.8 3.2 5.9 2.3] , target: 2\n"
          ],
          "name": "stdout"
        }
      ]
    },
    {
      "cell_type": "markdown",
      "metadata": {
        "id": "x3txC5EjLlmL",
        "colab_type": "text"
      },
      "source": [
        "データをPyTorchで使えるように変換します。"
      ]
    },
    {
      "cell_type": "code",
      "metadata": {
        "id": "Tnkjo-dtLau4",
        "colab_type": "code",
        "colab": {}
      },
      "source": [
        "import torch\n",
        "\n",
        "X_train = torch.from_numpy(X_train).float()\n",
        "y_train = torch.tensor([[float(x)] for x in y_train])\n",
        "X_test = torch.from_numpy(X_test).float()\n",
        "y_test = torch.tensor([[float(x)] for x in y_test])"
      ],
      "execution_count": 0,
      "outputs": []
    },
    {
      "cell_type": "markdown",
      "metadata": {
        "id": "P10FEblyNWHi",
        "colab_type": "text"
      },
      "source": [
        "ニューラルネットワークを表すクラスを定義します。"
      ]
    },
    {
      "cell_type": "code",
      "metadata": {
        "id": "UCUPcZyWNWUK",
        "colab_type": "code",
        "colab": {}
      },
      "source": [
        "from torch import nn\n",
        "\n",
        "INPUT_FEATURES = 4\n",
        "HIDDEN = 5\n",
        "OUTPUT_FEATURES = 1\n",
        "\n",
        "class Net(nn.Module):\n",
        "    def __init__(self):\n",
        "        super().__init__()\n",
        "        self.fc1 = nn.Linear(INPUT_FEATURES, HIDDEN)\n",
        "        self.fc2 = nn.Linear(HIDDEN, OUTPUT_FEATURES)\n",
        "\n",
        "    def forward(self, x):\n",
        "        x = self.fc1(x)\n",
        "        x = torch.sigmoid(x)\n",
        "        x = self.fc2(x)\n",
        "        return x"
      ],
      "execution_count": 0,
      "outputs": []
    },
    {
      "cell_type": "markdown",
      "metadata": {
        "id": "Z7PEW-d2Sf4a",
        "colab_type": "text"
      },
      "source": [
        "定義したニューラルネットワークを使ってみます。"
      ]
    },
    {
      "cell_type": "code",
      "metadata": {
        "id": "JPnniYRcSlQN",
        "colab_type": "code",
        "colab": {
          "base_uri": "https://localhost:8080/",
          "height": 119
        },
        "outputId": "458c63fa-283a-4a3d-9651-739538d8a148"
      },
      "source": [
        "net = Net()  # ニューラルネットワークのインスタンスを生成\n",
        "\n",
        "outputs = net(X_train[0:3])  # 訓練データの先頭から3個の要素を入力\n",
        "print(outputs)\n",
        "for idx in range(3):\n",
        "    print('output:', outputs[idx], ', label:', y_train[idx])"
      ],
      "execution_count": 17,
      "outputs": [
        {
          "output_type": "stream",
          "text": [
            "tensor([[0.5395],\n",
            "        [0.5385],\n",
            "        [0.5209]], grad_fn=<AddmmBackward>)\n",
            "output: tensor([0.5395], grad_fn=<SelectBackward>) , label: tensor([1.])\n",
            "output: tensor([0.5385], grad_fn=<SelectBackward>) , label: tensor([1.])\n",
            "output: tensor([0.5209], grad_fn=<SelectBackward>) , label: tensor([2.])\n"
          ],
          "name": "stdout"
        }
      ]
    },
    {
      "cell_type": "markdown",
      "metadata": {
        "id": "h2cTTv2KT6FQ",
        "colab_type": "text"
      },
      "source": [
        "先ほど定義したニューラルネットワークを使って、学習を行います。"
      ]
    },
    {
      "cell_type": "code",
      "metadata": {
        "id": "RiwclXDRUFke",
        "colab_type": "code",
        "outputId": "e30e90bc-d9b7-4dca-f1d7-b3179ba24cb7",
        "colab": {
          "base_uri": "https://localhost:8080/",
          "height": 374
        }
      },
      "source": [
        "net = Net()  # ニューラルネットワークのインスタンスを生成\n",
        "\n",
        "criterion = nn.MSELoss()  # 損失関数\n",
        "optimizer = torch.optim.SGD(net.parameters(), lr=0.003)  # 最適化手法\n",
        "\n",
        "EPOCHS = 2000  # 上と同じことを2000回繰り返す\n",
        "for epoch in range(EPOCHS):\n",
        "    optimizer.zero_grad()  # 重みとバイアスの更新で内部的に使用するデータをリセット\n",
        "    outputs = net(X_train)  # 手順1：ニューラルネットワークにデータを入力\n",
        "    loss = criterion(outputs, y_train)  # 手順2：正解ラベルとの比較\n",
        "    loss.backward()  # 手順3-1：誤差逆伝播\n",
        "    optimizer.step()  # 手順3-2：重みとバイアスの更新\n",
        "    \n",
        "    if epoch % 100 == 99:  # 100回繰り返すたびに損失を表示\n",
        "        print(f'epoch: {epoch+1:4}, loss: {loss.data}')\n",
        "\n",
        "print('training finished')"
      ],
      "execution_count": 18,
      "outputs": [
        {
          "output_type": "stream",
          "text": [
            "epoch:  100, loss: 0.6393837928771973\n",
            "epoch:  200, loss: 0.5842536687850952\n",
            "epoch:  300, loss: 0.5612550973892212\n",
            "epoch:  400, loss: 0.5348739624023438\n",
            "epoch:  500, loss: 0.5019711852073669\n",
            "epoch:  600, loss: 0.4604303240776062\n",
            "epoch:  700, loss: 0.40949442982673645\n",
            "epoch:  800, loss: 0.35218316316604614\n",
            "epoch:  900, loss: 0.29507753252983093\n",
            "epoch: 1000, loss: 0.24343958497047424\n",
            "epoch: 1100, loss: 0.19943009316921234\n",
            "epoch: 1200, loss: 0.16361494362354279\n",
            "epoch: 1300, loss: 0.13570287823677063\n",
            "epoch: 1400, loss: 0.1147782951593399\n",
            "epoch: 1500, loss: 0.09958261251449585\n",
            "epoch: 1600, loss: 0.08879823237657547\n",
            "epoch: 1700, loss: 0.08124153316020966\n",
            "epoch: 1800, loss: 0.0759531706571579\n",
            "epoch: 1900, loss: 0.07221029698848724\n",
            "epoch: 2000, loss: 0.0694972425699234\n",
            "training finished\n"
          ],
          "name": "stdout"
        }
      ]
    },
    {
      "cell_type": "markdown",
      "metadata": {
        "id": "S3HyK4oUWHtg",
        "colab_type": "text"
      },
      "source": [
        "最後の学習での計算結果と対応する正解ラベルを表示してみます。"
      ]
    },
    {
      "cell_type": "code",
      "metadata": {
        "id": "y6VgAoPqWQ7V",
        "colab_type": "code",
        "outputId": "cd1591f2-be05-4c78-b9fc-ddd622551e53",
        "colab": {
          "base_uri": "https://localhost:8080/",
          "height": 102
        }
      },
      "source": [
        "for idx, item in enumerate(zip(outputs, y_train)):\n",
        "    if idx == 5:\n",
        "        break\n",
        "    print(item[0].data, '<--->', item[1])"
      ],
      "execution_count": 19,
      "outputs": [
        {
          "output_type": "stream",
          "text": [
            "tensor([1.1532]) <---> tensor([1.])\n",
            "tensor([1.2502]) <---> tensor([1.])\n",
            "tensor([1.5774]) <---> tensor([2.])\n",
            "tensor([0.0143]) <---> tensor([0.])\n",
            "tensor([1.7571]) <---> tensor([2.])\n"
          ],
          "name": "stdout"
        }
      ]
    },
    {
      "cell_type": "markdown",
      "metadata": {
        "id": "5ZR7rZibdQf3",
        "colab_type": "text"
      },
      "source": [
        "計算結果を整数値に補正するコード。"
      ]
    },
    {
      "cell_type": "code",
      "metadata": {
        "id": "Fb0WdKs4dUwR",
        "colab_type": "code",
        "colab": {
          "base_uri": "https://localhost:8080/",
          "height": 102
        },
        "outputId": "bb4f347c-a9b3-44bc-cff2-c23f3b09524e"
      },
      "source": [
        "predict = (outputs + 0.5).int()\n",
        "for idx, item in enumerate(zip(predict, y_train)):\n",
        "    if idx == 5:\n",
        "        break\n",
        "    print('output:', item[0], ', label:', item[1])"
      ],
      "execution_count": 20,
      "outputs": [
        {
          "output_type": "stream",
          "text": [
            "output: tensor([1], dtype=torch.int32) , label: tensor([1.])\n",
            "output: tensor([1], dtype=torch.int32) , label: tensor([1.])\n",
            "output: tensor([2], dtype=torch.int32) , label: tensor([2.])\n",
            "output: tensor([0], dtype=torch.int32) , label: tensor([0.])\n",
            "output: tensor([2], dtype=torch.int32) , label: tensor([2.])\n"
          ],
          "name": "stdout"
        }
      ]
    },
    {
      "cell_type": "markdown",
      "metadata": {
        "id": "7AaZUkm7dyuq",
        "colab_type": "text"
      },
      "source": [
        "入力されたデータから推測された結果が、正解ラベルと一致した数を計算します。"
      ]
    },
    {
      "cell_type": "code",
      "metadata": {
        "id": "eKgrkX5Td7Df",
        "colab_type": "code",
        "colab": {
          "base_uri": "https://localhost:8080/",
          "height": 119
        },
        "outputId": "42ae4608-93ed-4718-b96a-c893d383294e"
      },
      "source": [
        "compare = predict == y_train\n",
        "print(compare[0:5])\n",
        "print(compare.sum())"
      ],
      "execution_count": 22,
      "outputs": [
        {
          "output_type": "stream",
          "text": [
            "tensor([[True],\n",
            "        [True],\n",
            "        [True],\n",
            "        [True],\n",
            "        [True]])\n",
            "tensor(108)\n"
          ],
          "name": "stdout"
        }
      ]
    },
    {
      "cell_type": "markdown",
      "metadata": {
        "id": "7ATeVJX5e6GS",
        "colab_type": "text"
      },
      "source": [
        "上で学習を行ったニューラルネットワークに、テストデータを入力して、その精度を確認します。"
      ]
    },
    {
      "cell_type": "code",
      "metadata": {
        "id": "qcA6rCWJfBt9",
        "colab_type": "code",
        "colab": {
          "base_uri": "https://localhost:8080/",
          "height": 680
        },
        "outputId": "b803590a-a263-47cb-86ea-df9e0ea00533"
      },
      "source": [
        "outputs = net(X_test)\n",
        "\n",
        "predict = (outputs + 0.5).int()\n",
        "compare = predict == y_test\n",
        "\n",
        "print(f'correct: {compare.sum()} / {len(predict)}')\n",
        "for value, label in zip(predict, y_test):\n",
        "    print('predicted:', iris.target_names[value.item()], '<--->',\n",
        "        'label:', iris.target_names[int(label.item())])"
      ],
      "execution_count": 23,
      "outputs": [
        {
          "output_type": "stream",
          "text": [
            "correct: 38 / 38\n",
            "predicted: versicolor <---> label: versicolor\n",
            "predicted: setosa <---> label: setosa\n",
            "predicted: setosa <---> label: setosa\n",
            "predicted: virginica <---> label: virginica\n",
            "predicted: virginica <---> label: virginica\n",
            "predicted: virginica <---> label: virginica\n",
            "predicted: virginica <---> label: virginica\n",
            "predicted: versicolor <---> label: versicolor\n",
            "predicted: versicolor <---> label: versicolor\n",
            "predicted: versicolor <---> label: versicolor\n",
            "predicted: virginica <---> label: virginica\n",
            "predicted: setosa <---> label: setosa\n",
            "predicted: setosa <---> label: setosa\n",
            "predicted: versicolor <---> label: versicolor\n",
            "predicted: virginica <---> label: virginica\n",
            "predicted: virginica <---> label: virginica\n",
            "predicted: virginica <---> label: virginica\n",
            "predicted: versicolor <---> label: versicolor\n",
            "predicted: versicolor <---> label: versicolor\n",
            "predicted: virginica <---> label: virginica\n",
            "predicted: setosa <---> label: setosa\n",
            "predicted: virginica <---> label: virginica\n",
            "predicted: virginica <---> label: virginica\n",
            "predicted: setosa <---> label: setosa\n",
            "predicted: virginica <---> label: virginica\n",
            "predicted: versicolor <---> label: versicolor\n",
            "predicted: virginica <---> label: virginica\n",
            "predicted: versicolor <---> label: versicolor\n",
            "predicted: virginica <---> label: virginica\n",
            "predicted: versicolor <---> label: versicolor\n",
            "predicted: setosa <---> label: setosa\n",
            "predicted: versicolor <---> label: versicolor\n",
            "predicted: virginica <---> label: virginica\n",
            "predicted: setosa <---> label: setosa\n",
            "predicted: setosa <---> label: setosa\n",
            "predicted: versicolor <---> label: versicolor\n",
            "predicted: setosa <---> label: setosa\n",
            "predicted: virginica <---> label: virginica\n"
          ],
          "name": "stdout"
        }
      ]
    }
  ]
}